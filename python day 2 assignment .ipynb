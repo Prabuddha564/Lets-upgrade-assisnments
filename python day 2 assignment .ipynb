{
  "nbformat": 4,
  "nbformat_minor": 0,
  "metadata": {
    "colab": {
      "name": "Untitled0.ipynb",
      "provenance": [],
      "collapsed_sections": [],
      "authorship_tag": "ABX9TyPcevA6J9VeFSbQ5ddusrUQ",
      "include_colab_link": true
    },
    "kernelspec": {
      "name": "python3",
      "display_name": "Python 3"
    },
    "language_info": {
      "name": "python"
    }
  },
  "cells": [
    {
      "cell_type": "markdown",
      "metadata": {
        "id": "view-in-github",
        "colab_type": "text"
      },
      "source": [
        "<a href=\"https://colab.research.google.com/github/Prabuddha564/Lets-upgrade-assisnments/blob/master/python%20day%202%20assignment%20.ipynb\" target=\"_parent\"><img src=\"https://colab.research.google.com/assets/colab-badge.svg\" alt=\"Open In Colab\"/></a>"
      ]
    },
    {
      "cell_type": "code",
      "execution_count": 2,
      "metadata": {
        "colab": {
          "base_uri": "https://localhost:8080/"
        },
        "id": "ftIIaf4O8iYC",
        "outputId": "f90c16d6-f90e-4546-9035-7386002910b2"
      },
      "outputs": [
        {
          "output_type": "stream",
          "name": "stdout",
          "text": [
            " Enter the value:99\n",
            "Value must be between 1 to 60\n"
          ]
        }
      ],
      "source": [
        "value = int (input (\" Enter the value:\"))\n",
        "a = value\n",
        "b = (value - 20)\n",
        "c = (value - 30)\n",
        "if value < 1 or value > 60:\n",
        "    print(\"Value must be between 1 to 60\")\n",
        "elif value > 0 and value <= 20:\n",
        "    print (\"a =\", a)\n",
        "elif value > 20 and value <= 30:\n",
        "    print (\"a = 20\")\n",
        "    print (\"b =\", b)\n",
        "elif value > 30 and value <= 60:\n",
        "    print (\"a = 20\")\n",
        "    print (\"b = 10\")\n",
        "    print (\"c =\", c)\n"
      ]
    }
  ]
}